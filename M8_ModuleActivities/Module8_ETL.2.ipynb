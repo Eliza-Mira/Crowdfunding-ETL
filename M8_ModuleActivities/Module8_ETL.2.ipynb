{
 "cells": [
  {
   "cell_type": "code",
   "execution_count": null,
   "id": "b54590f1",
   "metadata": {},
   "outputs": [],
   "source": [
    "# ******************************* MODULE 8.4.1 ********************************\n",
    "\n",
    "# Example2: Finding Substrings in Multiple Rows"
   ]
  },
  {
   "cell_type": "code",
   "execution_count": 1,
   "id": "c7c9a430",
   "metadata": {},
   "outputs": [],
   "source": [
    "# Import the Pandas dependency.\n",
    "import pandas as pd\n",
    "\n",
    "# Import the regular expression module.\n",
    "import re"
   ]
  },
  {
   "cell_type": "code",
   "execution_count": 2,
   "id": "479372d8",
   "metadata": {},
   "outputs": [
    {
     "data": {
      "text/html": [
       "<div>\n",
       "<style scoped>\n",
       "    .dataframe tbody tr th:only-of-type {\n",
       "        vertical-align: middle;\n",
       "    }\n",
       "\n",
       "    .dataframe tbody tr th {\n",
       "        vertical-align: top;\n",
       "    }\n",
       "\n",
       "    .dataframe thead th {\n",
       "        text-align: right;\n",
       "    }\n",
       "</style>\n",
       "<table border=\"1\" class=\"dataframe\">\n",
       "  <thead>\n",
       "    <tr style=\"text-align: right;\">\n",
       "      <th></th>\n",
       "      <th>contact_info</th>\n",
       "    </tr>\n",
       "  </thead>\n",
       "  <tbody>\n",
       "    <tr>\n",
       "      <th>0</th>\n",
       "      <td>contact_id 4661 name Cecilia Velasco email cec...</td>\n",
       "    </tr>\n",
       "    <tr>\n",
       "      <th>1</th>\n",
       "      <td>contact_id 3765 name Mariana Ellis email maria...</td>\n",
       "    </tr>\n",
       "    <tr>\n",
       "      <th>2</th>\n",
       "      <td>contact_id 4187 name Sofie Woods email sofie.w...</td>\n",
       "    </tr>\n",
       "    <tr>\n",
       "      <th>3</th>\n",
       "      <td>contact_id 4941 name Jeanette Iannotti email j...</td>\n",
       "    </tr>\n",
       "    <tr>\n",
       "      <th>4</th>\n",
       "      <td>contact_id 2199 name Samuel Sorgatz email samu...</td>\n",
       "    </tr>\n",
       "  </tbody>\n",
       "</table>\n",
       "</div>"
      ],
      "text/plain": [
       "                                        contact_info\n",
       "0  contact_id 4661 name Cecilia Velasco email cec...\n",
       "1  contact_id 3765 name Mariana Ellis email maria...\n",
       "2  contact_id 4187 name Sofie Woods email sofie.w...\n",
       "3  contact_id 4941 name Jeanette Iannotti email j...\n",
       "4  contact_id 2199 name Samuel Sorgatz email samu..."
      ]
     },
     "execution_count": 2,
     "metadata": {},
     "output_type": "execute_result"
    }
   ],
   "source": [
    "# Read the contacts string data into a Pandas DataFrame\n",
    "\n",
    "contacts_string_df = pd.read_csv(\"../M8_ModuleActivities/contacts_string_data.csv\")\n",
    "\n",
    "contacts_string_df.head()"
   ]
  },
  {
   "cell_type": "code",
   "execution_count": 3,
   "id": "0e04516b",
   "metadata": {},
   "outputs": [
    {
     "data": {
      "text/plain": [
       "Index(['contact_info'], dtype='object')"
      ]
     },
     "execution_count": 3,
     "metadata": {},
     "output_type": "execute_result"
    }
   ],
   "source": [
    "# Print column info.\n",
    "contacts_string_df.columns"
   ]
  },
  {
   "cell_type": "code",
   "execution_count": 4,
   "id": "877378d1",
   "metadata": {},
   "outputs": [],
   "source": [
    "# Extract the four-digit contact ID number.\n",
    "\n",
    "contacts_string_df['contact_id'] = contacts_string_df['contact_info'].str.extract(r'(\\d{4})')"
   ]
  },
  {
   "cell_type": "code",
   "execution_count": 5,
   "id": "9787c9ce",
   "metadata": {},
   "outputs": [
    {
     "data": {
      "text/html": [
       "<div>\n",
       "<style scoped>\n",
       "    .dataframe tbody tr th:only-of-type {\n",
       "        vertical-align: middle;\n",
       "    }\n",
       "\n",
       "    .dataframe tbody tr th {\n",
       "        vertical-align: top;\n",
       "    }\n",
       "\n",
       "    .dataframe thead th {\n",
       "        text-align: right;\n",
       "    }\n",
       "</style>\n",
       "<table border=\"1\" class=\"dataframe\">\n",
       "  <thead>\n",
       "    <tr style=\"text-align: right;\">\n",
       "      <th></th>\n",
       "      <th>contact_info</th>\n",
       "      <th>contact_id</th>\n",
       "    </tr>\n",
       "  </thead>\n",
       "  <tbody>\n",
       "    <tr>\n",
       "      <th>0</th>\n",
       "      <td>contact_id 4661 name Cecilia Velasco email cec...</td>\n",
       "      <td>4661</td>\n",
       "    </tr>\n",
       "    <tr>\n",
       "      <th>1</th>\n",
       "      <td>contact_id 3765 name Mariana Ellis email maria...</td>\n",
       "      <td>3765</td>\n",
       "    </tr>\n",
       "    <tr>\n",
       "      <th>2</th>\n",
       "      <td>contact_id 4187 name Sofie Woods email sofie.w...</td>\n",
       "      <td>4187</td>\n",
       "    </tr>\n",
       "    <tr>\n",
       "      <th>3</th>\n",
       "      <td>contact_id 4941 name Jeanette Iannotti email j...</td>\n",
       "      <td>4941</td>\n",
       "    </tr>\n",
       "    <tr>\n",
       "      <th>4</th>\n",
       "      <td>contact_id 2199 name Samuel Sorgatz email samu...</td>\n",
       "      <td>2199</td>\n",
       "    </tr>\n",
       "  </tbody>\n",
       "</table>\n",
       "</div>"
      ],
      "text/plain": [
       "                                        contact_info contact_id\n",
       "0  contact_id 4661 name Cecilia Velasco email cec...       4661\n",
       "1  contact_id 3765 name Mariana Ellis email maria...       3765\n",
       "2  contact_id 4187 name Sofie Woods email sofie.w...       4187\n",
       "3  contact_id 4941 name Jeanette Iannotti email j...       4941\n",
       "4  contact_id 2199 name Samuel Sorgatz email samu...       2199"
      ]
     },
     "execution_count": 5,
     "metadata": {},
     "output_type": "execute_result"
    }
   ],
   "source": [
    "contacts_string_df.head()"
   ]
  },
  {
   "cell_type": "code",
   "execution_count": null,
   "id": "14d92511",
   "metadata": {},
   "outputs": [],
   "source": [
    "# ******************************* MODULE 8.4.3 ********************************"
   ]
  },
  {
   "cell_type": "code",
   "execution_count": null,
   "id": "770efa1f",
   "metadata": {},
   "outputs": [],
   "source": [
    "# SKILL DRILL\n",
    "# Using the Pandas str.extract function, \n",
    "# extract the name from the \"contact_info\" column of the contact_df DataFrame, \n",
    "# and add it to a new column named \"name\"."
   ]
  },
  {
   "cell_type": "code",
   "execution_count": 12,
   "id": "3e787e6e",
   "metadata": {},
   "outputs": [
    {
     "name": "stdout",
     "output_type": "stream",
     "text": [
      "                                          contact_info contact_id  \\\n",
      "0    contact_id 4661 name Cecilia Velasco email cec...       4661   \n",
      "1    contact_id 3765 name Mariana Ellis email maria...       3765   \n",
      "2    contact_id 4187 name Sofie Woods email sofie.w...       4187   \n",
      "3    contact_id 4941 name Jeanette Iannotti email j...       4941   \n",
      "4    contact_id 2199 name Samuel Sorgatz email samu...       2199   \n",
      "..                                                 ...        ...   \n",
      "995  contact_id 3684 name Whitney Noack email whitn...       3684   \n",
      "996  contact_id 5784 name Gelsomina Migliaccio emai...       5784   \n",
      "997  contact_id 1498 name Evangelista Pereira email...       1498   \n",
      "998  contact_id 6073 name Gareth Comolli email gare...       6073   \n",
      "999  contact_id 4939 name Michelangelo Hess email m...       4939   \n",
      "\n",
      "                                      name  \n",
      "0            Cecilia Velasco email cecilia  \n",
      "1              Mariana Ellis email mariana  \n",
      "2                  Sofie Woods email sofie  \n",
      "3         Jeanette Iannotti email jeanette  \n",
      "4              Samuel Sorgatz email samuel  \n",
      "..                                     ...  \n",
      "995            Whitney Noack email whitney  \n",
      "996   Gelsomina Migliaccio email gelsomina  \n",
      "997  Evangelista Pereira email evangelista  \n",
      "998            Gareth Comolli email gareth  \n",
      "999   Michelangelo Hess email michelangelo  \n",
      "\n",
      "[1000 rows x 3 columns]\n"
     ]
    }
   ],
   "source": [
    "# Extract the name using regular expression and add it to a new column\n",
    "contacts_string_df[\"name\"] = contacts_string_df[\"contact_info\"].str.extract(r'name\\s+([A-Za-z ]+)')\n",
    "\n",
    "# Display the updated DataFrame\n",
    "print(contacts_string_df)"
   ]
  },
  {
   "cell_type": "code",
   "execution_count": null,
   "id": "a99f4f8a",
   "metadata": {},
   "outputs": [],
   "source": []
  },
  {
   "cell_type": "code",
   "execution_count": null,
   "id": "5a88d485",
   "metadata": {},
   "outputs": [],
   "source": []
  },
  {
   "cell_type": "code",
   "execution_count": null,
   "id": "d15d366d",
   "metadata": {},
   "outputs": [],
   "source": []
  },
  {
   "cell_type": "code",
   "execution_count": null,
   "id": "71a79984",
   "metadata": {},
   "outputs": [],
   "source": []
  },
  {
   "cell_type": "code",
   "execution_count": null,
   "id": "b0d6b4a8",
   "metadata": {},
   "outputs": [],
   "source": []
  }
 ],
 "metadata": {
  "kernelspec": {
   "display_name": "Python 3 (ipykernel)",
   "language": "python",
   "name": "python3"
  },
  "language_info": {
   "codemirror_mode": {
    "name": "ipython",
    "version": 3
   },
   "file_extension": ".py",
   "mimetype": "text/x-python",
   "name": "python",
   "nbconvert_exporter": "python",
   "pygments_lexer": "ipython3",
   "version": "3.9.13"
  }
 },
 "nbformat": 4,
 "nbformat_minor": 5
}
