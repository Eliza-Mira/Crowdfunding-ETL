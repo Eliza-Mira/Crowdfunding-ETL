{
 "cells": [
  {
   "cell_type": "code",
   "execution_count": 1,
   "id": "97e33465",
   "metadata": {},
   "outputs": [],
   "source": [
    "#*******************************MODULE 8 ETL / 8.4.1 **********************\n",
    "\n",
    "# Example1: Converting Single Quotes to Double Quotes"
   ]
  },
  {
   "cell_type": "code",
   "execution_count": 2,
   "id": "519e46c3",
   "metadata": {},
   "outputs": [],
   "source": [
    "# Import the json module.\n",
    "import json"
   ]
  },
  {
   "cell_type": "code",
   "execution_count": 3,
   "id": "2276b079",
   "metadata": {},
   "outputs": [
    {
     "ename": "JSONDecodeError",
     "evalue": "Expecting property name enclosed in double quotes: line 1 column 2 (char 1)",
     "output_type": "error",
     "traceback": [
      "\u001b[1;31m---------------------------------------------------------------------------\u001b[0m",
      "\u001b[1;31mJSONDecodeError\u001b[0m                           Traceback (most recent call last)",
      "\u001b[1;32m~\\AppData\\Local\\Temp\\ipykernel_42492\\115382716.py\u001b[0m in \u001b[0;36m<module>\u001b[1;34m\u001b[0m\n\u001b[0;32m      8\u001b[0m \u001b[1;31m# Convert the string data to a dictionary.\u001b[0m\u001b[1;33m\u001b[0m\u001b[1;33m\u001b[0m\u001b[0m\n\u001b[0;32m      9\u001b[0m \u001b[1;33m\u001b[0m\u001b[0m\n\u001b[1;32m---> 10\u001b[1;33m \u001b[0mconverted_data\u001b[0m \u001b[1;33m=\u001b[0m \u001b[0mjson\u001b[0m\u001b[1;33m.\u001b[0m\u001b[0mloads\u001b[0m\u001b[1;33m(\u001b[0m\u001b[0mdata\u001b[0m\u001b[1;33m)\u001b[0m\u001b[1;33m\u001b[0m\u001b[1;33m\u001b[0m\u001b[0m\n\u001b[0m\u001b[0;32m     11\u001b[0m \u001b[1;33m\u001b[0m\u001b[0m\n\u001b[0;32m     12\u001b[0m \u001b[1;31m# Iterate through the dictionary (row) and get the values.\u001b[0m\u001b[1;33m\u001b[0m\u001b[1;33m\u001b[0m\u001b[0m\n",
      "\u001b[1;32m~\\anaconda3\\lib\\json\\__init__.py\u001b[0m in \u001b[0;36mloads\u001b[1;34m(s, cls, object_hook, parse_float, parse_int, parse_constant, object_pairs_hook, **kw)\u001b[0m\n\u001b[0;32m    344\u001b[0m             \u001b[0mparse_int\u001b[0m \u001b[1;32mis\u001b[0m \u001b[1;32mNone\u001b[0m \u001b[1;32mand\u001b[0m \u001b[0mparse_float\u001b[0m \u001b[1;32mis\u001b[0m \u001b[1;32mNone\u001b[0m \u001b[1;32mand\u001b[0m\u001b[1;33m\u001b[0m\u001b[1;33m\u001b[0m\u001b[0m\n\u001b[0;32m    345\u001b[0m             parse_constant is None and object_pairs_hook is None and not kw):\n\u001b[1;32m--> 346\u001b[1;33m         \u001b[1;32mreturn\u001b[0m \u001b[0m_default_decoder\u001b[0m\u001b[1;33m.\u001b[0m\u001b[0mdecode\u001b[0m\u001b[1;33m(\u001b[0m\u001b[0ms\u001b[0m\u001b[1;33m)\u001b[0m\u001b[1;33m\u001b[0m\u001b[1;33m\u001b[0m\u001b[0m\n\u001b[0m\u001b[0;32m    347\u001b[0m     \u001b[1;32mif\u001b[0m \u001b[0mcls\u001b[0m \u001b[1;32mis\u001b[0m \u001b[1;32mNone\u001b[0m\u001b[1;33m:\u001b[0m\u001b[1;33m\u001b[0m\u001b[1;33m\u001b[0m\u001b[0m\n\u001b[0;32m    348\u001b[0m         \u001b[0mcls\u001b[0m \u001b[1;33m=\u001b[0m \u001b[0mJSONDecoder\u001b[0m\u001b[1;33m\u001b[0m\u001b[1;33m\u001b[0m\u001b[0m\n",
      "\u001b[1;32m~\\anaconda3\\lib\\json\\decoder.py\u001b[0m in \u001b[0;36mdecode\u001b[1;34m(self, s, _w)\u001b[0m\n\u001b[0;32m    335\u001b[0m \u001b[1;33m\u001b[0m\u001b[0m\n\u001b[0;32m    336\u001b[0m         \"\"\"\n\u001b[1;32m--> 337\u001b[1;33m         \u001b[0mobj\u001b[0m\u001b[1;33m,\u001b[0m \u001b[0mend\u001b[0m \u001b[1;33m=\u001b[0m \u001b[0mself\u001b[0m\u001b[1;33m.\u001b[0m\u001b[0mraw_decode\u001b[0m\u001b[1;33m(\u001b[0m\u001b[0ms\u001b[0m\u001b[1;33m,\u001b[0m \u001b[0midx\u001b[0m\u001b[1;33m=\u001b[0m\u001b[0m_w\u001b[0m\u001b[1;33m(\u001b[0m\u001b[0ms\u001b[0m\u001b[1;33m,\u001b[0m \u001b[1;36m0\u001b[0m\u001b[1;33m)\u001b[0m\u001b[1;33m.\u001b[0m\u001b[0mend\u001b[0m\u001b[1;33m(\u001b[0m\u001b[1;33m)\u001b[0m\u001b[1;33m)\u001b[0m\u001b[1;33m\u001b[0m\u001b[1;33m\u001b[0m\u001b[0m\n\u001b[0m\u001b[0;32m    338\u001b[0m         \u001b[0mend\u001b[0m \u001b[1;33m=\u001b[0m \u001b[0m_w\u001b[0m\u001b[1;33m(\u001b[0m\u001b[0ms\u001b[0m\u001b[1;33m,\u001b[0m \u001b[0mend\u001b[0m\u001b[1;33m)\u001b[0m\u001b[1;33m.\u001b[0m\u001b[0mend\u001b[0m\u001b[1;33m(\u001b[0m\u001b[1;33m)\u001b[0m\u001b[1;33m\u001b[0m\u001b[1;33m\u001b[0m\u001b[0m\n\u001b[0;32m    339\u001b[0m         \u001b[1;32mif\u001b[0m \u001b[0mend\u001b[0m \u001b[1;33m!=\u001b[0m \u001b[0mlen\u001b[0m\u001b[1;33m(\u001b[0m\u001b[0ms\u001b[0m\u001b[1;33m)\u001b[0m\u001b[1;33m:\u001b[0m\u001b[1;33m\u001b[0m\u001b[1;33m\u001b[0m\u001b[0m\n",
      "\u001b[1;32m~\\anaconda3\\lib\\json\\decoder.py\u001b[0m in \u001b[0;36mraw_decode\u001b[1;34m(self, s, idx)\u001b[0m\n\u001b[0;32m    351\u001b[0m         \"\"\"\n\u001b[0;32m    352\u001b[0m         \u001b[1;32mtry\u001b[0m\u001b[1;33m:\u001b[0m\u001b[1;33m\u001b[0m\u001b[1;33m\u001b[0m\u001b[0m\n\u001b[1;32m--> 353\u001b[1;33m             \u001b[0mobj\u001b[0m\u001b[1;33m,\u001b[0m \u001b[0mend\u001b[0m \u001b[1;33m=\u001b[0m \u001b[0mself\u001b[0m\u001b[1;33m.\u001b[0m\u001b[0mscan_once\u001b[0m\u001b[1;33m(\u001b[0m\u001b[0ms\u001b[0m\u001b[1;33m,\u001b[0m \u001b[0midx\u001b[0m\u001b[1;33m)\u001b[0m\u001b[1;33m\u001b[0m\u001b[1;33m\u001b[0m\u001b[0m\n\u001b[0m\u001b[0;32m    354\u001b[0m         \u001b[1;32mexcept\u001b[0m \u001b[0mStopIteration\u001b[0m \u001b[1;32mas\u001b[0m \u001b[0merr\u001b[0m\u001b[1;33m:\u001b[0m\u001b[1;33m\u001b[0m\u001b[1;33m\u001b[0m\u001b[0m\n\u001b[0;32m    355\u001b[0m             \u001b[1;32mraise\u001b[0m \u001b[0mJSONDecodeError\u001b[0m\u001b[1;33m(\u001b[0m\u001b[1;34m\"Expecting value\"\u001b[0m\u001b[1;33m,\u001b[0m \u001b[0ms\u001b[0m\u001b[1;33m,\u001b[0m \u001b[0merr\u001b[0m\u001b[1;33m.\u001b[0m\u001b[0mvalue\u001b[0m\u001b[1;33m)\u001b[0m \u001b[1;32mfrom\u001b[0m \u001b[1;32mNone\u001b[0m\u001b[1;33m\u001b[0m\u001b[1;33m\u001b[0m\u001b[0m\n",
      "\u001b[1;31mJSONDecodeError\u001b[0m: Expecting property name enclosed in double quotes: line 1 column 2 (char 1)"
     ]
    }
   ],
   "source": [
    "# Suppose contact_info_df DataFrame had each key & string value \n",
    "# in single quotes instead of double quotes, as follows:\n",
    "    \n",
    "# Assign the string data to a variable. \n",
    "\n",
    "data = \"{'contact_id': 4661, 'name': 'Cecilia Velasco', 'email': 'cecilia.velasco@rodrigues.fr'}\"\n",
    "\n",
    "# Convert the string data to a dictionary.\n",
    "\n",
    "converted_data = json.loads(data)\n",
    "\n",
    "# Iterate through the dictionary (row) and get the values.\n",
    "\n",
    "row_values = [v for k, v in converted_data.items()]\n",
    "\n",
    "print(row_values)\n",
    "\n",
    "# OUTPUT:  \n",
    "# JSONDecodeError: Expecting property name enclosed in double quotes: line 1 column 2 (char 1)\n",
    "\n",
    "# Trying to convert the data string to a dictionary results in the above error.\n",
    "# This means that we need to hv double quotes around our keys."
   ]
  },
  {
   "cell_type": "code",
   "execution_count": 4,
   "id": "a53d4a44",
   "metadata": {},
   "outputs": [
    {
     "name": "stdout",
     "output_type": "stream",
     "text": [
      "{\"contact_id\": 4661, \"name\": \"Cecilia Velasco\", \"email\": \"cecilia.velasco@rodrigues.fr\"}\n"
     ]
    }
   ],
   "source": [
    "#  Easy solution is to replace the single quotes with double quotes by using the following code:\n",
    "\n",
    "data = data.replace(\"'\", '\"')\n",
    "print(data)\n",
    "\n",
    "# Running the code puts double quotes instead of single ones around the keys and string values."
   ]
  },
  {
   "cell_type": "code",
   "execution_count": 5,
   "id": "40448d81",
   "metadata": {},
   "outputs": [
    {
     "name": "stdout",
     "output_type": "stream",
     "text": [
      "[4661, 'Cecilia Velasco', 'cecilia.velasco@rodrigues.fr']\n"
     ]
    }
   ],
   "source": [
    "# Convert the following updated string data to a dictionary, then print the value of each key.\n",
    "\n",
    "dict_data = {\"contact_id\": 4661, \"name\": \"Cecilia Velasco\", \"email\": \"cecilia.velasco@rodrigues.fr\"}\n",
    "\n",
    "# replace single quotes with double quotes\n",
    "\n",
    "dict_data = data.replace(\"'\", '\"')\n",
    "\n",
    "# Convert the string data to a dictionary.\n",
    "\n",
    "converted_dict_data = json.loads(dict_data)\n",
    "\n",
    "# Iterate through the dictionary (row) and get the values.\n",
    "\n",
    "dict_data_row_values = [v for k, v in converted_dict_data.items()]\n",
    "\n",
    "print(dict_data_row_values)"
   ]
  },
  {
   "cell_type": "code",
   "execution_count": null,
   "id": "7c25193d",
   "metadata": {},
   "outputs": [],
   "source": [
    "# Suppose that we had the following string data, which contains no punctuation:\n",
    "# string_data = \"contact_id 4661 name Cecilia Velasco email cecilia.velasco@rodrigues.fr\"\n",
    "\n",
    "# List slicing would work to extract the four-digit numbers, \n",
    "# But, retrieving the names and email addresses would be a time-consuming, \n",
    "# because those values have different lengths.\n",
    "\n",
    "# use regular expressions and \n",
    "# the findall function to extract the strings that we need.       re.findall(pattern, string)"
   ]
  },
  {
   "cell_type": "code",
   "execution_count": 6,
   "id": "bdb17433",
   "metadata": {},
   "outputs": [],
   "source": [
    "# Import the regular expression module.\n",
    "\n",
    "import re"
   ]
  },
  {
   "cell_type": "code",
   "execution_count": 7,
   "id": "4dd9ec76",
   "metadata": {},
   "outputs": [
    {
     "name": "stdout",
     "output_type": "stream",
     "text": [
      "['4661']\n"
     ]
    }
   ],
   "source": [
    "# Assign the string data to a variable. \n",
    "string_data = \"contact_id 4661 name Cecilia Velasco email cecilia.velasco@rodrigues.fr\"\n",
    "\n",
    "# Extract the four digit number.\n",
    "\n",
    "contact_id = re.findall(r'(\\d{4})', string_data)\n",
    "\n",
    "print(contact_id)"
   ]
  },
  {
   "cell_type": "code",
   "execution_count": null,
   "id": "90fe530d",
   "metadata": {},
   "outputs": [],
   "source": [
    "# ******************************* MODULE 8.4.3 ********************************\n",
    "\n",
    "# PLAN: Using regular expressions to get the names of all the contacts.\n",
    "\n",
    "# parse strings by eliminating characters at the beginning of a string \n",
    "# to get the name of each contact in the middle of a string.\n",
    "\n",
    "# extract the name from the \"contact_info\" column of the contacts_df DataFrame.\n",
    "\n",
    "#****************************************************************************************\n",
    "# The regular expression will contain a capture group enclosed in single quotes that contains the following:\n",
    "\n",
    "# 1) A caret, the word \"name,\" a backslash, a lowercase \"s,\" and a \n",
    "#    plus sign inside brackets ([^name\\s+]): Ignores the word \"name\" \n",
    "#    followed by one or more whitespace characters.\n",
    "\n",
    "# 2) The range for uppercase letters, the range for lowercase letters, and a \n",
    "#    plus sign inside brackets ([A-Za-z]+): Captures more than one letter, \n",
    "#    whether uppercase or lowercase.\n",
    "\n",
    "# 3) A backslash, a lowercase \"s,\" and a plus sign (\\s+): Captures more \n",
    "#    than one whitespace character.\n",
    "\n",
    "# 4) The range for uppercase letters, the range for lowercase letters, and a \n",
    "#    plus sign inside brackets ([A-Za-z]+): Captures more than \n",
    "#    one letter, whether uppercase or lowercase."
   ]
  },
  {
   "cell_type": "code",
   "execution_count": 9,
   "id": "7dc02d95",
   "metadata": {},
   "outputs": [
    {
     "data": {
      "text/plain": [
       "['Cecilia Velasco', 'il cecilia']"
      ]
     },
     "execution_count": 9,
     "metadata": {},
     "output_type": "execute_result"
    }
   ],
   "source": [
    "# Extract the first and last name after the word \"name\". \n",
    "name = re.findall(r'([^name\\s+][A-Za-z]+\\s+[A-Za-z]+)', string_data)\n",
    "name"
   ]
  },
  {
   "cell_type": "code",
   "execution_count": 8,
   "id": "19d67258",
   "metadata": {},
   "outputs": [
    {
     "data": {
      "text/plain": [
       "['Cecilia Velasco']"
      ]
     },
     "execution_count": 8,
     "metadata": {},
     "output_type": "execute_result"
    }
   ],
   "source": [
    "# Extract the first and last name after the word \"name\". \n",
    "\n",
    "name = re.findall(r'([^nameil\\s+][A-Za-z]+\\s+[A-Za-z]+)', string_data)\n",
    "name"
   ]
  },
  {
   "cell_type": "code",
   "execution_count": null,
   "id": "d6043f81",
   "metadata": {},
   "outputs": [],
   "source": [
    "# ******************************* MODULE 8.4.1 ********************************\n",
    "\n",
    "# Example2: Finding Substrings in Multiple Rows"
   ]
  },
  {
   "cell_type": "code",
   "execution_count": 10,
   "id": "84276650",
   "metadata": {},
   "outputs": [],
   "source": [
    "# Import the Pandas dependency.\n",
    "import pandas as pd"
   ]
  },
  {
   "cell_type": "code",
   "execution_count": 11,
   "id": "91cfccbf",
   "metadata": {},
   "outputs": [
    {
     "data": {
      "text/html": [
       "<div>\n",
       "<style scoped>\n",
       "    .dataframe tbody tr th:only-of-type {\n",
       "        vertical-align: middle;\n",
       "    }\n",
       "\n",
       "    .dataframe tbody tr th {\n",
       "        vertical-align: top;\n",
       "    }\n",
       "\n",
       "    .dataframe thead th {\n",
       "        text-align: right;\n",
       "    }\n",
       "</style>\n",
       "<table border=\"1\" class=\"dataframe\">\n",
       "  <thead>\n",
       "    <tr style=\"text-align: right;\">\n",
       "      <th></th>\n",
       "      <th>contact_info</th>\n",
       "    </tr>\n",
       "  </thead>\n",
       "  <tbody>\n",
       "    <tr>\n",
       "      <th>0</th>\n",
       "      <td>contact_id 4661 name Cecilia Velasco email cec...</td>\n",
       "    </tr>\n",
       "    <tr>\n",
       "      <th>1</th>\n",
       "      <td>contact_id 3765 name Mariana Ellis email maria...</td>\n",
       "    </tr>\n",
       "    <tr>\n",
       "      <th>2</th>\n",
       "      <td>contact_id 4187 name Sofie Woods email sofie.w...</td>\n",
       "    </tr>\n",
       "    <tr>\n",
       "      <th>3</th>\n",
       "      <td>contact_id 4941 name Jeanette Iannotti email j...</td>\n",
       "    </tr>\n",
       "    <tr>\n",
       "      <th>4</th>\n",
       "      <td>contact_id 2199 name Samuel Sorgatz email samu...</td>\n",
       "    </tr>\n",
       "  </tbody>\n",
       "</table>\n",
       "</div>"
      ],
      "text/plain": [
       "                                        contact_info\n",
       "0  contact_id 4661 name Cecilia Velasco email cec...\n",
       "1  contact_id 3765 name Mariana Ellis email maria...\n",
       "2  contact_id 4187 name Sofie Woods email sofie.w...\n",
       "3  contact_id 4941 name Jeanette Iannotti email j...\n",
       "4  contact_id 2199 name Samuel Sorgatz email samu..."
      ]
     },
     "execution_count": 11,
     "metadata": {},
     "output_type": "execute_result"
    }
   ],
   "source": [
    "# Read the contacts string data into a Pandas DataFrame\n",
    "\n",
    "contacts_string_df = pd.read_csv(\"../M8_ModuleActivities/contacts_string_data.csv\")\n",
    "\n",
    "contacts_string_df.head()"
   ]
  },
  {
   "cell_type": "code",
   "execution_count": 12,
   "id": "6aee8dfb",
   "metadata": {},
   "outputs": [
    {
     "data": {
      "text/plain": [
       "Index(['contact_info'], dtype='object')"
      ]
     },
     "execution_count": 12,
     "metadata": {},
     "output_type": "execute_result"
    }
   ],
   "source": [
    "# Print column info.\n",
    "contacts_string_df.columns"
   ]
  },
  {
   "cell_type": "code",
   "execution_count": null,
   "id": "e2b615ae",
   "metadata": {},
   "outputs": [],
   "source": [
    "# ******************************* MODULE 8.4.3 ********************************"
   ]
  },
  {
   "cell_type": "code",
   "execution_count": null,
   "id": "9cad836b",
   "metadata": {},
   "outputs": [],
   "source": [
    "# SKILL DRILL\n",
    "# Using the Pandas str.extract function, \n",
    "# extract the name from the \"contact_info\" column of the contact_df DataFrame, \n",
    "# and add it to a new column named \"name\"."
   ]
  },
  {
   "cell_type": "code",
   "execution_count": 13,
   "id": "138ed29f",
   "metadata": {},
   "outputs": [
    {
     "name": "stdout",
     "output_type": "stream",
     "text": [
      "                                          contact_info  \\\n",
      "0    contact_id 4661 name Cecilia Velasco email cec...   \n",
      "1    contact_id 3765 name Mariana Ellis email maria...   \n",
      "2    contact_id 4187 name Sofie Woods email sofie.w...   \n",
      "3    contact_id 4941 name Jeanette Iannotti email j...   \n",
      "4    contact_id 2199 name Samuel Sorgatz email samu...   \n",
      "..                                                 ...   \n",
      "995  contact_id 3684 name Whitney Noack email whitn...   \n",
      "996  contact_id 5784 name Gelsomina Migliaccio emai...   \n",
      "997  contact_id 1498 name Evangelista Pereira email...   \n",
      "998  contact_id 6073 name Gareth Comolli email gare...   \n",
      "999  contact_id 4939 name Michelangelo Hess email m...   \n",
      "\n",
      "                                      name  \n",
      "0            Cecilia Velasco email cecilia  \n",
      "1              Mariana Ellis email mariana  \n",
      "2                  Sofie Woods email sofie  \n",
      "3         Jeanette Iannotti email jeanette  \n",
      "4              Samuel Sorgatz email samuel  \n",
      "..                                     ...  \n",
      "995            Whitney Noack email whitney  \n",
      "996   Gelsomina Migliaccio email gelsomina  \n",
      "997  Evangelista Pereira email evangelista  \n",
      "998            Gareth Comolli email gareth  \n",
      "999   Michelangelo Hess email michelangelo  \n",
      "\n",
      "[1000 rows x 2 columns]\n"
     ]
    }
   ],
   "source": [
    "# Extract the name using regular expression and add it to a new column\n",
    "contacts_string_df[\"name\"] = contacts_string_df[\"contact_info\"].str.extract(r'name\\s+([A-Za-z ]+)')\n",
    "\n",
    "# Display the updated DataFrame\n",
    "contacts_string_df.head()"
   ]
  },
  {
   "cell_type": "code",
   "execution_count": 15,
   "id": "025b4389",
   "metadata": {},
   "outputs": [
    {
     "data": {
      "text/plain": [
       "['cecilia.velasco@rodrigues.fr']"
      ]
     },
     "execution_count": 15,
     "metadata": {},
     "output_type": "execute_result"
    }
   ],
   "source": [
    "# Extract the email address using a regular expression pattern. \n",
    "email_address = re.findall(r'(\\S+@\\S+)', string_data)\n",
    "email_address"
   ]
  },
  {
   "cell_type": "code",
   "execution_count": 17,
   "id": "4133a31f",
   "metadata": {},
   "outputs": [
    {
     "data": {
      "text/html": [
       "<div>\n",
       "<style scoped>\n",
       "    .dataframe tbody tr th:only-of-type {\n",
       "        vertical-align: middle;\n",
       "    }\n",
       "\n",
       "    .dataframe tbody tr th {\n",
       "        vertical-align: top;\n",
       "    }\n",
       "\n",
       "    .dataframe thead th {\n",
       "        text-align: right;\n",
       "    }\n",
       "</style>\n",
       "<table border=\"1\" class=\"dataframe\">\n",
       "  <thead>\n",
       "    <tr style=\"text-align: right;\">\n",
       "      <th></th>\n",
       "      <th>contact_info</th>\n",
       "      <th>name</th>\n",
       "      <th>email</th>\n",
       "    </tr>\n",
       "  </thead>\n",
       "  <tbody>\n",
       "    <tr>\n",
       "      <th>0</th>\n",
       "      <td>contact_id 4661 name Cecilia Velasco email cec...</td>\n",
       "      <td>Cecilia Velasco email cecilia</td>\n",
       "      <td>cecilia.velasco@rodrigues.fr</td>\n",
       "    </tr>\n",
       "    <tr>\n",
       "      <th>1</th>\n",
       "      <td>contact_id 3765 name Mariana Ellis email maria...</td>\n",
       "      <td>Mariana Ellis email mariana</td>\n",
       "      <td>mariana.ellis@rossi.org</td>\n",
       "    </tr>\n",
       "    <tr>\n",
       "      <th>2</th>\n",
       "      <td>contact_id 4187 name Sofie Woods email sofie.w...</td>\n",
       "      <td>Sofie Woods email sofie</td>\n",
       "      <td>sofie.woods@riviere.com</td>\n",
       "    </tr>\n",
       "    <tr>\n",
       "      <th>3</th>\n",
       "      <td>contact_id 4941 name Jeanette Iannotti email j...</td>\n",
       "      <td>Jeanette Iannotti email jeanette</td>\n",
       "      <td>jeanette.iannotti@yahoo.com</td>\n",
       "    </tr>\n",
       "    <tr>\n",
       "      <th>4</th>\n",
       "      <td>contact_id 2199 name Samuel Sorgatz email samu...</td>\n",
       "      <td>Samuel Sorgatz email samuel</td>\n",
       "      <td>samuel.sorgatz@gmail.com</td>\n",
       "    </tr>\n",
       "  </tbody>\n",
       "</table>\n",
       "</div>"
      ],
      "text/plain": [
       "                                        contact_info  \\\n",
       "0  contact_id 4661 name Cecilia Velasco email cec...   \n",
       "1  contact_id 3765 name Mariana Ellis email maria...   \n",
       "2  contact_id 4187 name Sofie Woods email sofie.w...   \n",
       "3  contact_id 4941 name Jeanette Iannotti email j...   \n",
       "4  contact_id 2199 name Samuel Sorgatz email samu...   \n",
       "\n",
       "                               name                         email  \n",
       "0     Cecilia Velasco email cecilia  cecilia.velasco@rodrigues.fr  \n",
       "1       Mariana Ellis email mariana       mariana.ellis@rossi.org  \n",
       "2           Sofie Woods email sofie       sofie.woods@riviere.com  \n",
       "3  Jeanette Iannotti email jeanette   jeanette.iannotti@yahoo.com  \n",
       "4       Samuel Sorgatz email samuel      samuel.sorgatz@gmail.com  "
      ]
     },
     "execution_count": 17,
     "metadata": {},
     "output_type": "execute_result"
    }
   ],
   "source": [
    "# SKILL DRILL\n",
    "# Using the Pandas str.extract function, \n",
    "# extract the email address from the \"contact_info\" column of the contact_df DataFrame, \n",
    "# and add it to a new column named \"email\".\n",
    "\n",
    "# Extract the email address using regular expression and add it to a new column\n",
    "contacts_string_df[\"email\"] = contacts_string_df[\"contact_info\"].str.extract(r'(\\S+@\\S+)')\n",
    "\n",
    "# Display the updated DataFrame\n",
    "contacts_string_df.head()"
   ]
  },
  {
   "cell_type": "code",
   "execution_count": null,
   "id": "0cb1d3df",
   "metadata": {},
   "outputs": [],
   "source": [
    "# ******************************* MODULE 8.5.1 ********************************"
   ]
  }
 ],
 "metadata": {
  "kernelspec": {
   "display_name": "Python 3 (ipykernel)",
   "language": "python",
   "name": "python3"
  },
  "language_info": {
   "codemirror_mode": {
    "name": "ipython",
    "version": 3
   },
   "file_extension": ".py",
   "mimetype": "text/x-python",
   "name": "python",
   "nbconvert_exporter": "python",
   "pygments_lexer": "ipython3",
   "version": "3.9.13"
  }
 },
 "nbformat": 4,
 "nbformat_minor": 5
}
